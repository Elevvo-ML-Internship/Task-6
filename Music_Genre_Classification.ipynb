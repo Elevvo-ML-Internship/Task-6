{
 "cells": [
  {
   "cell_type": "markdown",
   "id": "6d892529",
   "metadata": {},
   "source": [
    "# 1. Import Libraries"
   ]
  },
  {
   "cell_type": "code",
   "execution_count": 2,
   "id": "196563a0",
   "metadata": {},
   "outputs": [],
   "source": [
    "import os\n",
    "import numpy as np\n",
    "import pandas as pd\n",
    "import soundfile as sf\n",
    "import librosa\n",
    "import joblib\n",
    "import warnings\n",
    "\n",
    "from sklearn.preprocessing import LabelEncoder, StandardScaler\n",
    "from sklearn.model_selection import train_test_split\n",
    "from sklearn.metrics import classification_report, accuracy_score\n",
    "from sklearn.ensemble import RandomForestClassifier\n",
    "from sklearn.tree import DecisionTreeClassifier\n",
    "from sklearn.linear_model import LogisticRegression\n",
    "from xgboost import XGBClassifier\n",
    "\n",
    "warnings.filterwarnings(\"ignore\")"
   ]
  },
  {
   "cell_type": "markdown",
   "id": "3ced5e3d",
   "metadata": {},
   "source": [
    "# 2. Feature Extraction"
   ]
  },
  {
   "cell_type": "code",
   "execution_count": null,
   "id": "c09df003",
   "metadata": {},
   "outputs": [],
   "source": [
    "def extract_all_features(file_path):\n",
    "    try:\n",
    "        y, sr = sf.read(file_path, dtype=\"float32\")\n",
    "        if len(y.shape) > 1:  # stereo → mono\n",
    "            y = np.mean(y, axis=1)\n",
    "\n",
    "        y = np.array(y, dtype=np.float32)\n",
    "\n",
    "        features = {\n",
    "            \"length\": len(y),\n",
    "            \"chroma_stft_mean\": np.mean(librosa.feature.chroma_stft(y=y, sr=sr)),\n",
    "            \"chroma_stft_var\": np.var(librosa.feature.chroma_stft(y=y, sr=sr)),\n",
    "            \"rms_mean\": np.mean(librosa.feature.rms(y=y)),\n",
    "            \"rms_var\": np.var(librosa.feature.rms(y=y)),\n",
    "            \"spectral_centroid_mean\": np.mean(librosa.feature.spectral_centroid(y=y, sr=sr)),\n",
    "            \"spectral_centroid_var\": np.var(librosa.feature.spectral_centroid(y=y, sr=sr)),\n",
    "            \"spectral_bandwidth_mean\": np.mean(librosa.feature.spectral_bandwidth(y=y, sr=sr)),\n",
    "            \"spectral_bandwidth_var\": np.var(librosa.feature.spectral_bandwidth(y=y, sr=sr)),\n",
    "            \"rolloff_mean\": np.mean(librosa.feature.spectral_rolloff(y=y, sr=sr)),\n",
    "            \"rolloff_var\": np.var(librosa.feature.spectral_rolloff(y=y, sr=sr)),\n",
    "            \"zero_crossing_rate_mean\": np.mean(librosa.feature.zero_crossing_rate(y=y)),\n",
    "            \"zero_crossing_rate_var\": np.var(librosa.feature.zero_crossing_rate(y=y)),\n",
    "        }\n",
    "\n",
    "        # MFCCs\n",
    "        mfccs = librosa.feature.mfcc(y=y, sr=sr, n_mfcc=20)\n",
    "        for i in range(20):\n",
    "            features[f\"mfcc{i+1}_mean\"] = np.mean(mfccs[i])\n",
    "            features[f\"mfcc{i+1}_var\"] = np.var(mfccs[i])\n",
    "\n",
    "        return features\n",
    "    except Exception as e:\n",
    "        print(f\"⚠️ Skipping {file_path} due to error: {e}\")\n",
    "        return None\n"
   ]
  },
  {
   "cell_type": "markdown",
   "id": "94f30ca9",
   "metadata": {},
   "source": [
    "# 3. Load Dataset and Extract Features"
   ]
  },
  {
   "cell_type": "code",
   "execution_count": 4,
   "id": "d556ad5b",
   "metadata": {},
   "outputs": [
    {
     "name": "stdout",
     "output_type": "stream",
     "text": [
      "⚠️ Skipping genres_original\\jazz\\jazz.00054.wav due to error: Error opening 'genres_original\\\\jazz\\\\jazz.00054.wav': Format not recognised.\n",
      "✅ Extracted features from 999 files, feature count: 53\n"
     ]
    }
   ],
   "source": [
    "dataset_path = \"genres_original\"   # training folder (each subfolder = genre)\n",
    "\n",
    "data, labels = [], []\n",
    "\n",
    "for genre in os.listdir(dataset_path):\n",
    "    genre_path = os.path.join(dataset_path, genre)\n",
    "    if os.path.isdir(genre_path):\n",
    "        for file in os.listdir(genre_path):\n",
    "            if file.lower().endswith((\".wav\", \".mp3\")):\n",
    "                file_path = os.path.join(genre_path, file)\n",
    "                features = extract_all_features(file_path)\n",
    "                if features:\n",
    "                    data.append(features)\n",
    "                    labels.append(genre)\n",
    "\n",
    "df = pd.DataFrame(data)\n",
    "print(f\"✅ Extracted features from {len(df)} files, feature count: {df.shape[1]}\")"
   ]
  },
  {
   "cell_type": "markdown",
   "id": "d0c7630a",
   "metadata": {},
   "source": [
    "# 4. Preprocessing"
   ]
  },
  {
   "cell_type": "code",
   "execution_count": 5,
   "id": "06af0c53",
   "metadata": {},
   "outputs": [],
   "source": [
    "# encode labels\n",
    "le = LabelEncoder()\n",
    "y_encoded = le.fit_transform(labels)\n",
    "\n",
    "# scale features\n",
    "scaler = StandardScaler()\n",
    "X_scaled = scaler.fit_transform(df)\n",
    "\n",
    "# train/test split\n",
    "X_train, X_test, y_train, y_test = train_test_split(X_scaled, y_encoded, test_size=0.2, random_state=42)\n"
   ]
  },
  {
   "cell_type": "markdown",
   "id": "5bd7304b",
   "metadata": {},
   "source": [
    "# 5. Train Models and Compare"
   ]
  },
  {
   "cell_type": "code",
   "execution_count": 6,
   "id": "44a82b2b",
   "metadata": {},
   "outputs": [
    {
     "name": "stdout",
     "output_type": "stream",
     "text": [
      "\n",
      "📊 RandomForest Accuracy: 0.8000\n",
      "              precision    recall  f1-score   support\n",
      "\n",
      "       blues       0.83      0.71      0.77        21\n",
      "   classical       0.71      1.00      0.83        12\n",
      "     country       0.77      0.71      0.74        24\n",
      "       disco       1.00      0.82      0.90        22\n",
      "      hiphop       0.76      0.87      0.81        15\n",
      "        jazz       0.92      0.89      0.91        27\n",
      "       metal       0.86      1.00      0.92        18\n",
      "         pop       0.81      0.89      0.85        19\n",
      "      reggae       0.81      0.77      0.79        22\n",
      "        rock       0.47      0.45      0.46        20\n",
      "\n",
      "    accuracy                           0.80       200\n",
      "   macro avg       0.79      0.81      0.80       200\n",
      "weighted avg       0.81      0.80      0.80       200\n",
      "\n",
      "\n",
      "📊 DecisionTree Accuracy: 0.6350\n",
      "              precision    recall  f1-score   support\n",
      "\n",
      "       blues       0.52      0.52      0.52        21\n",
      "   classical       0.83      0.83      0.83        12\n",
      "     country       0.65      0.54      0.59        24\n",
      "       disco       0.59      0.59      0.59        22\n",
      "      hiphop       0.37      0.47      0.41        15\n",
      "        jazz       0.84      0.78      0.81        27\n",
      "       metal       0.72      0.72      0.72        18\n",
      "         pop       0.85      0.89      0.87        19\n",
      "      reggae       0.68      0.77      0.72        22\n",
      "        rock       0.28      0.25      0.26        20\n",
      "\n",
      "    accuracy                           0.64       200\n",
      "   macro avg       0.63      0.64      0.63       200\n",
      "weighted avg       0.64      0.64      0.63       200\n",
      "\n",
      "\n",
      "📊 LogisticRegression Accuracy: 0.7350\n",
      "              precision    recall  f1-score   support\n",
      "\n",
      "       blues       0.71      0.81      0.76        21\n",
      "   classical       1.00      1.00      1.00        12\n",
      "     country       0.62      0.67      0.64        24\n",
      "       disco       0.62      0.68      0.65        22\n",
      "      hiphop       0.67      0.67      0.67        15\n",
      "        jazz       0.96      0.93      0.94        27\n",
      "       metal       0.89      0.89      0.89        18\n",
      "         pop       0.84      0.84      0.84        19\n",
      "      reggae       0.63      0.55      0.59        22\n",
      "        rock       0.47      0.40      0.43        20\n",
      "\n",
      "    accuracy                           0.73       200\n",
      "   macro avg       0.74      0.74      0.74       200\n",
      "weighted avg       0.73      0.73      0.73       200\n",
      "\n",
      "\n",
      "📊 XGBoost Accuracy: 0.7800\n",
      "              precision    recall  f1-score   support\n",
      "\n",
      "       blues       0.74      0.67      0.70        21\n",
      "   classical       0.80      1.00      0.89        12\n",
      "     country       0.86      0.75      0.80        24\n",
      "       disco       1.00      0.77      0.87        22\n",
      "      hiphop       0.63      0.80      0.71        15\n",
      "        jazz       0.92      0.85      0.88        27\n",
      "       metal       0.86      1.00      0.92        18\n",
      "         pop       0.74      0.89      0.81        19\n",
      "      reggae       0.79      0.68      0.73        22\n",
      "        rock       0.48      0.50      0.49        20\n",
      "\n",
      "    accuracy                           0.78       200\n",
      "   macro avg       0.78      0.79      0.78       200\n",
      "weighted avg       0.79      0.78      0.78       200\n",
      "\n",
      "\n",
      "🏆 Best Model: RandomForest with Accuracy = 0.8000\n"
     ]
    }
   ],
   "source": [
    "models = {\n",
    "    \"RandomForest\": RandomForestClassifier(n_estimators=100, random_state=42),\n",
    "    \"DecisionTree\": DecisionTreeClassifier(random_state=42),\n",
    "    \"LogisticRegression\": LogisticRegression(max_iter=2000),\n",
    "    \"XGBoost\": XGBClassifier(\n",
    "        n_estimators=200,\n",
    "        learning_rate=0.05,\n",
    "        max_depth=6,\n",
    "        subsample=0.8,\n",
    "        colsample_bytree=0.8,\n",
    "        random_state=42,\n",
    "        eval_metric=\"mlogloss\"\n",
    "    )\n",
    "}\n",
    "\n",
    "best_model = None\n",
    "best_acc = 0\n",
    "best_name = \"\"\n",
    "\n",
    "for name, model in models.items():\n",
    "    model.fit(X_train, y_train)\n",
    "    preds = model.predict(X_test)\n",
    "    acc = accuracy_score(y_test, preds)\n",
    "    print(f\"\\n📊 {name} Accuracy: {acc:.4f}\")\n",
    "    print(classification_report(y_test, preds, target_names=le.classes_))\n",
    "\n",
    "    if acc > best_acc:\n",
    "        best_acc, best_model, best_name = acc, model, name\n",
    "\n",
    "print(f\"\\n🏆 Best Model: {best_name} with Accuracy = {best_acc:.4f}\")"
   ]
  },
  {
   "cell_type": "markdown",
   "id": "577a63ad",
   "metadata": {},
   "source": [
    "# 6. Save Best Model"
   ]
  },
  {
   "cell_type": "code",
   "execution_count": 7,
   "id": "5cc1c8d1",
   "metadata": {},
   "outputs": [
    {
     "name": "stdout",
     "output_type": "stream",
     "text": [
      "💾 Saved best model (RandomForest) to best_genre_model.pkl\n"
     ]
    }
   ],
   "source": [
    "model_path = \"best_genre_model.pkl\"\n",
    "joblib.dump((best_model, scaler, le), model_path)\n",
    "print(f\"💾 Saved best model ({best_name}) to {model_path}\")"
   ]
  },
  {
   "cell_type": "markdown",
   "id": "62bd028e",
   "metadata": {},
   "source": [
    "# 7. Prediction Function"
   ]
  },
  {
   "cell_type": "code",
   "execution_count": 8,
   "id": "e7bf48c5",
   "metadata": {},
   "outputs": [],
   "source": [
    "def predict_genre(audio_path):\n",
    "    model, scaler, le = joblib.load(\"best_genre_model.pkl\")\n",
    "    features = extract_all_features(audio_path)\n",
    "    if features is None:\n",
    "        return None\n",
    "    X = pd.DataFrame([features])\n",
    "    X_scaled = scaler.transform(X)\n",
    "    pred = model.predict(X_scaled)\n",
    "    genre = le.inverse_transform(pred)[0]\n",
    "    print(f\"🎵 {audio_path} → {genre}\")\n",
    "    return genre"
   ]
  },
  {
   "cell_type": "markdown",
   "id": "4bc19d7b",
   "metadata": {},
   "source": [
    "# 8. Test on New Files"
   ]
  },
  {
   "cell_type": "code",
   "execution_count": 9,
   "id": "3b651c65",
   "metadata": {},
   "outputs": [
    {
     "name": "stdout",
     "output_type": "stream",
     "text": [
      "🎵 test\\classical.00005.wav → classical\n",
      "🎵 test\\pop.00000.wav → pop\n",
      "🎵 test\\rock.00001.wav → rock\n"
     ]
    }
   ],
   "source": [
    "test_folder = \"test\"\n",
    "\n",
    "for file in os.listdir(test_folder):\n",
    "    if file.lower().endswith((\".wav\", \".mp3\")):\n",
    "        predict_genre(os.path.join(test_folder, file))"
   ]
  }
 ],
 "metadata": {
  "kernelspec": {
   "display_name": "Python (steam-ml-env)",
   "language": "python",
   "name": "steam-ml-env"
  },
  "language_info": {
   "codemirror_mode": {
    "name": "ipython",
    "version": 3
   },
   "file_extension": ".py",
   "mimetype": "text/x-python",
   "name": "python",
   "nbconvert_exporter": "python",
   "pygments_lexer": "ipython3",
   "version": "3.12.2"
  }
 },
 "nbformat": 4,
 "nbformat_minor": 5
}
